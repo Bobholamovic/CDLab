{
 "cells": [
  {
   "cell_type": "code",
   "execution_count": 22,
   "metadata": {},
   "outputs": [],
   "source": [
    "import random\n",
    "import os\n",
    "from os import makedirs, symlink, readlink\n",
    "from os.path import join, basename, dirname, exists, islink, split\n",
    "from glob import glob\n",
    "from shutil import copy\n",
    "\n",
    "from skimage.io import imread\n",
    "from tqdm import tqdm"
   ]
  },
  {
   "cell_type": "code",
   "execution_count": 23,
   "metadata": {},
   "outputs": [],
   "source": [
    "# Constants\n",
    "DATASET_DIR = \"/home/gdf/data/LEVIR-CD/\"\n",
    "\n",
    "OLD_TRAIN_DIR = join(DATASET_DIR, '256x256_2', 'train')\n",
    "OLD_VAL_DIR = join(DATASET_DIR, '256x256_2', 'val2')\n",
    "OLD_TEST_DIR = join(DATASET_DIR, '256x256_2', 'test')\n",
    "\n",
    "NEW_TRAIN_DIR = join(DATASET_DIR, '256x256_3', 'train')\n",
    "NEW_VAL_DIR = join(DATASET_DIR, '256x256_3', 'val')\n",
    "NEW_TEST_DIR = join(DATASET_DIR, '256x256_3', 'test')\n",
    "\n",
    "RATIO = 0.9\n",
    "COPY_MODE = 'LINK'  # LINK, COPY\n",
    "SEED = 114514"
   ]
  },
  {
   "cell_type": "code",
   "execution_count": 24,
   "metadata": {},
   "outputs": [],
   "source": [
    "# Utility functions\n",
    "def mklink(src, dst):\n",
    "    dir = dirname(dst)\n",
    "    if not exists(dir):\n",
    "        makedirs(dir)\n",
    "    if islink(src):\n",
    "        src = readlink(src)\n",
    "    symlink(src, dst)\n",
    "\n",
    "\n",
    "def mkcopy(src, dst):\n",
    "    dir = dirname(dst)\n",
    "    if not exists(dir):\n",
    "        makedirs(dir)\n",
    "    copy(src, dst)\n",
    "    "
   ]
  },
  {
   "cell_type": "code",
   "execution_count": 25,
   "metadata": {},
   "outputs": [],
   "source": [
    "# Merge old train and val subsets and re-split them\n",
    "def _copy_file(src, dst):\n",
    "    if COPY_MODE == 'COPY':\n",
    "        mkcopy(src, dst)\n",
    "    elif COPY_MODE == 'LINK':\n",
    "        mklink(src, dst)\n",
    "    else:\n",
    "        raise ValueError\n",
    "\n",
    "def _split_parts(path):\n",
    "    parts = []\n",
    "    head = path\n",
    "    while True:\n",
    "        head, tail = split(head)\n",
    "        if tail != '':\n",
    "            parts.append(tail)\n",
    "        elif head != '':\n",
    "            parts.append(head)\n",
    "            break\n",
    "    parts.reverse()\n",
    "    return parts\n",
    "\n",
    "def _random_split(label_paths, train_dir, val_dir):\n",
    "    random.shuffle(label_paths)\n",
    "    end = int(len(label_paths)*RATIO)\n",
    "    \n",
    "    for i, p in enumerate(label_paths):\n",
    "        parts = _split_parts(p)\n",
    "        src_dir = join(*parts[:-3])\n",
    "        tag, name = parts[-2:]\n",
    "        dst_dir = train_dir if i < end else val_dir\n",
    "        _copy_file(join(src_dir, 'A', tag, name), join(dst_dir, 'A', tag, name))\n",
    "        _copy_file(join(src_dir, 'B', tag, name), join(dst_dir, 'B', tag, name))\n",
    "        _copy_file(join(src_dir, 'label', tag, name), join(dst_dir, 'label', tag, name))\n",
    "\n",
    "random.seed(SEED)\n",
    "\n",
    "subdirs = glob(join(OLD_TRAIN_DIR, 'label', '*/'))+glob(join(OLD_VAL_DIR, 'label', '*/'))\n",
    "subdirs.sort()\n",
    "for subdir in subdirs:\n",
    "    label_paths = sorted(glob(join(subdir, '*.png')))\n",
    "    pos_paths, neg_paths = [], []\n",
    "    for p in label_paths:\n",
    "        if imread(p).sum() > 0:\n",
    "            pos_paths.append(p)\n",
    "        else:\n",
    "            neg_paths.append(p)\n",
    "    \n",
    "    if len(pos_paths) > 0:\n",
    "        _random_split(pos_paths, NEW_TRAIN_DIR, NEW_VAL_DIR)\n",
    "\n",
    "    if len(neg_paths) > 0:\n",
    "        _random_split(neg_paths, NEW_TRAIN_DIR, NEW_VAL_DIR)\n"
   ]
  },
  {
   "cell_type": "code",
   "execution_count": 27,
   "metadata": {},
   "outputs": [],
   "source": [
    "# Link test subset\n",
    "mklink(OLD_TEST_DIR, NEW_TEST_DIR)"
   ]
  },
  {
   "cell_type": "code",
   "execution_count": 29,
   "metadata": {},
   "outputs": [
    {
     "name": "stdout",
     "output_type": "stream",
     "text": [
      "22016\t0.04571745076844858\n",
      "2925\t0.044757674779647434\n",
      "2048\t0.05094262957572937\n"
     ]
    }
   ],
   "source": [
    "# Count\n",
    "def _show_info(paths):\n",
    "    print(f\"{len(paths)}\\t{_count_ratio(paths)}\")\n",
    "\n",
    "def _count_ratio(paths):\n",
    "    pos_cnt = 0\n",
    "    cnt = 0\n",
    "    for p in paths:\n",
    "        im = imread(p)\n",
    "        pos_cnt += (im>0).sum()\n",
    "        assert len(im.shape) == 2\n",
    "        cnt += im.shape[0]*im.shape[1]\n",
    "    return pos_cnt / cnt\n",
    "\n",
    "_show_info(glob(join(NEW_TRAIN_DIR, 'label', '**', '*.png')))\n",
    "_show_info(glob(join(NEW_VAL_DIR, 'label', '**', '*.png')))\n",
    "_show_info(glob(join(NEW_TEST_DIR, 'label', '**', '*.png')))"
   ]
  }
 ],
 "metadata": {
  "interpreter": {
   "hash": "11fdc0a0e22fdacc7546f3971223790726a1c7cfe0c8d555a3f057c800ae56af"
  },
  "kernelspec": {
   "display_name": "Python 3.7.4 64-bit ('MyDefault': conda)",
   "language": "python",
   "name": "python3"
  },
  "language_info": {
   "codemirror_mode": {
    "name": "ipython",
    "version": 3
   },
   "file_extension": ".py",
   "mimetype": "text/x-python",
   "name": "python",
   "nbconvert_exporter": "python",
   "pygments_lexer": "ipython3",
   "version": "3.7.4"
  },
  "orig_nbformat": 4
 },
 "nbformat": 4,
 "nbformat_minor": 2
}
